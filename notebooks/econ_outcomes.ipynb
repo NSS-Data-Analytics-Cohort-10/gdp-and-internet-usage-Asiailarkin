{
 "cells": [
  {
   "cell_type": "code",
   "execution_count": 3,
   "id": "97d54e95",
   "metadata": {},
   "outputs": [],
   "source": [
    "import pandas as pd\n",
    "import numpy as np\n",
    "import matplotlib.pyplot as plt\n",
    "import seaborn as sns"
   ]
  },
  {
   "cell_type": "code",
   "execution_count": 10,
   "id": "7bc3c8e3",
   "metadata": {},
   "outputs": [
    {
     "name": "stdout",
     "output_type": "stream",
     "text": [
      "     Country or Area  Year        Value  Value Footnotes\n",
      "0        Afghanistan  2021  1517.016266              NaN\n",
      "1        Afghanistan  2020  1968.341002              NaN\n",
      "2        Afghanistan  2019  2079.921861              NaN\n",
      "3        Afghanistan  2018  2060.698973              NaN\n",
      "4        Afghanistan  2017  2096.093111              NaN\n",
      "...              ...   ...          ...              ...\n",
      "7657        Zimbabwe  1994  2670.106615              NaN\n",
      "7658        Zimbabwe  1993  2458.783255              NaN\n",
      "7659        Zimbabwe  1992  2468.278257              NaN\n",
      "7660        Zimbabwe  1991  2781.787843              NaN\n",
      "7661        Zimbabwe  1990  2704.757299              NaN\n",
      "\n",
      "[7662 rows x 4 columns]\n"
     ]
    }
   ],
   "source": [
    "gdp_df = pd.read_csv('../data/gdp_percapita.csv..')"
   ]
  },
  {
   "cell_type": "markdown",
   "id": "85d6f3c4",
   "metadata": {},
   "source": [
    "5. 7662 rows x 4 columns"
   ]
  },
  {
   "cell_type": "code",
   "execution_count": 13,
   "id": "a9139367",
   "metadata": {},
   "outputs": [
    {
     "name": "stdout",
     "output_type": "stream",
     "text": [
      "Country or Area     object\n",
      "Year                 int64\n",
      "Value              float64\n",
      "Value Footnotes    float64\n",
      "dtype: object\n"
     ]
    }
   ],
   "source": [
    "print(gdp_df.dtypes)"
   ]
  },
  {
   "cell_type": "markdown",
   "id": "33410449",
   "metadata": {},
   "source": [
    "5. \n",
    "Country or Area     object/ string\n",
    "Year                 int64/ integer\n",
    "Value              float64/ float\n",
    "Value Footnotes    float64/ float"
   ]
  }
 ],
 "metadata": {
  "kernelspec": {
   "display_name": "Python 3 (ipykernel)",
   "language": "python",
   "name": "python3"
  },
  "language_info": {
   "codemirror_mode": {
    "name": "ipython",
    "version": 3
   },
   "file_extension": ".py",
   "mimetype": "text/x-python",
   "name": "python",
   "nbconvert_exporter": "python",
   "pygments_lexer": "ipython3",
   "version": "3.11.5"
  }
 },
 "nbformat": 4,
 "nbformat_minor": 5
}
